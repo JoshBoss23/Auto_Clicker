{
 "cells": [
  {
   "cell_type": "code",
   "execution_count": 1,
   "metadata": {},
   "outputs": [],
   "source": [
    "import keyboard\n",
    "import mouse\n",
    "import time\n",
    "import random"
   ]
  },
  {
   "cell_type": "code",
   "execution_count": 2,
   "metadata": {},
   "outputs": [],
   "source": [
    "run = False\n",
    "delay = 0.08\n",
    "delay_inc = 0.01\n",
    "min_delay = 1 / 144\n",
    "not_running_delay = 0.1\n",
    "while not keyboard.is_pressed('q'):\n",
    "    if run:\n",
    "        mouse.press()\n",
    "        # time.sleep(delay)\n",
    "        time.sleep(delay)\n",
    "        mouse.release()\n",
    "        # time.sleep(0.001)\n",
    "    else:\n",
    "        time.sleep(not_running_delay)\n",
    "    # time.sleep(0.02)\n",
    "    if keyboard.is_pressed('up'):\n",
    "        delay += delay_inc\n",
    "        print(delay)\n",
    "    elif keyboard.is_pressed('down'):\n",
    "        if delay - delay_inc >= min_delay:\n",
    "            delay -= delay_inc\n",
    "        else:\n",
    "            delay = min_delay\n",
    "        print(delay)\n",
    "    if keyboard.is_pressed('space'):\n",
    "        run = not run\n",
    "        print(run)\n",
    "        time.sleep(0.5)\n",
    "    "
   ]
  }
 ],
 "metadata": {
  "kernelspec": {
   "display_name": "Python 3",
   "language": "python",
   "name": "python3"
  },
  "language_info": {
   "codemirror_mode": {
    "name": "ipython",
    "version": 3
   },
   "file_extension": ".py",
   "mimetype": "text/x-python",
   "name": "python",
   "nbconvert_exporter": "python",
   "pygments_lexer": "ipython3",
   "version": "3.10.11"
  },
  "orig_nbformat": 4,
  "vscode": {
   "interpreter": {
    "hash": "157e0e84cdef39de02ddf9ab8583c52d8a97d7d2119adb377e4f5b4434935a7a"
   }
  }
 },
 "nbformat": 4,
 "nbformat_minor": 2
}
